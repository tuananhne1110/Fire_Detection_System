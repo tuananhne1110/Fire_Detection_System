{
 "cells": [
  {
   "cell_type": "code",
   "execution_count": 1,
   "metadata": {},
   "outputs": [
    {
     "name": "stderr",
     "output_type": "stream",
     "text": [
      "\n",
      "image 1/1 d:\\Fire_Detection_System\\Chay-Pho-Co-9.jpg: 448x640 1 Smoke, 199.3ms\n",
      "Speed: 4.5ms preprocess, 199.3ms inference, 7.0ms postprocess per image at shape (1, 3, 448, 640)\n",
      "Results saved to \u001b[1mruns\\detect\\predict\u001b[0m\n"
     ]
    },
    {
     "data": {
      "text/plain": [
       "[ultralytics.engine.results.Results object with attributes:\n",
       " \n",
       " boxes: ultralytics.engine.results.Boxes object\n",
       " keypoints: None\n",
       " masks: None\n",
       " names: {0: 'Fire', 1: 'Smoke'}\n",
       " orig_img: array([[[211, 197, 191],\n",
       "         [226, 212, 206],\n",
       "         [222, 208, 202],\n",
       "         ...,\n",
       "         [ 16,  15,  24],\n",
       "         [ 18,  17,  26],\n",
       "         [ 19,  18,  27]],\n",
       " \n",
       "        [[228, 214, 208],\n",
       "         [243, 229, 223],\n",
       "         [239, 225, 219],\n",
       "         ...,\n",
       "         [ 19,  18,  27],\n",
       "         [ 20,  19,  28],\n",
       "         [ 20,  19,  28]],\n",
       " \n",
       "        [[219, 205, 199],\n",
       "         [234, 220, 214],\n",
       "         [230, 216, 210],\n",
       "         ...,\n",
       "         [ 20,  19,  28],\n",
       "         [ 19,  18,  27],\n",
       "         [ 19,  18,  27]],\n",
       " \n",
       "        ...,\n",
       " \n",
       "        [[ 45,  44,  48],\n",
       "         [ 55,  54,  58],\n",
       "         [ 66,  65,  69],\n",
       "         ...,\n",
       "         [ 52,  51,  53],\n",
       "         [ 50,  49,  51],\n",
       "         [ 48,  47,  49]],\n",
       " \n",
       "        [[ 52,  51,  53],\n",
       "         [ 62,  61,  63],\n",
       "         [ 72,  71,  73],\n",
       "         ...,\n",
       "         [ 51,  50,  52],\n",
       "         [ 50,  49,  51],\n",
       "         [ 48,  47,  49]],\n",
       " \n",
       "        [[ 55,  54,  56],\n",
       "         [ 64,  63,  65],\n",
       "         [ 74,  73,  75],\n",
       "         ...,\n",
       "         [ 50,  49,  51],\n",
       "         [ 49,  48,  50],\n",
       "         [ 47,  46,  48]]], dtype=uint8)\n",
       " orig_shape: (1278, 1920)\n",
       " path: 'd:\\\\Fire_Detection_System\\\\Chay-Pho-Co-9.jpg'\n",
       " probs: None\n",
       " save_dir: 'runs\\\\detect\\\\predict'\n",
       " speed: {'preprocess': 4.494667053222656, 'inference': 199.27453994750977, 'postprocess': 7.0095062255859375}]"
      ]
     },
     "execution_count": 1,
     "metadata": {},
     "output_type": "execute_result"
    }
   ],
   "source": [
    "from ultralytics import YOLO\n",
    "model = YOLO('D:\\\\Fire_Detection_System\\\\yolo\\\\train\\\\Weights\\\\best.pt')\n",
    "model.predict(source ='test.jpg',imgsz = 640, conf = 0.4, save = True)"
   ]
  },
  {
   "cell_type": "code",
   "execution_count": null,
   "metadata": {},
   "outputs": [],
   "source": []
  }
 ],
 "metadata": {
  "kernelspec": {
   "display_name": "base",
   "language": "python",
   "name": "python3"
  },
  "language_info": {
   "codemirror_mode": {
    "name": "ipython",
    "version": 3
   },
   "file_extension": ".py",
   "mimetype": "text/x-python",
   "name": "python",
   "nbconvert_exporter": "python",
   "pygments_lexer": "ipython3",
   "version": "3.11.6"
  }
 },
 "nbformat": 4,
 "nbformat_minor": 2
}
